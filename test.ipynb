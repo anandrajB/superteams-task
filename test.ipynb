{
 "cells": [
  {
   "cell_type": "code",
   "execution_count": 2,
   "metadata": {},
   "outputs": [
    {
     "name": "stdout",
     "output_type": "stream",
     "text": [
      "['', 'APR stands', ' for Annual Percentage Rate', '. It is the annual interest', ' rate charged for borrowing', ', expressed as a single percentage', ' number that represents the actual year', 'ly cost of funds over the', ' term of a loan. It', ' includes any fees or additional costs', ' associated with the transaction.', '']\n"
     ]
    }
   ],
   "source": [
    "import replicate\n",
    "\n",
    "\n",
    "output = replicate.run(\n",
    "    \"ibm-granite/granite-3.0-8b-instruct\",\n",
    "    input={\n",
    "        \"top_k\": 50,\n",
    "        \"top_p\": 0.9,\n",
    "        \"prompt\": \"Could you please explain what APR means?\",\n",
    "        \"max_tokens\": 512,\n",
    "        \"min_tokens\": 0,\n",
    "        \"temperature\": 0.6,\n",
    "        \"system_prompt\": \"You are an expert in finance that knows many concepts related to loans and credit.\",\n",
    "        \"presence_penalty\": 0,\n",
    "        \"frequency_penalty\": 0\n",
    "    }\n",
    ")\n",
    "print(output)"
   ]
  },
  {
   "cell_type": "code",
   "execution_count": 2,
   "metadata": {},
   "outputs": [
    {
     "name": "stdout",
     "output_type": "stream",
     "text": [
      "The file is not a zip file or it is corrupted\n"
     ]
    }
   ],
   "source": [
    "import zipfile\n",
    "\n",
    "try:\n",
    "    with zipfile.ZipFile('train.zip', 'r') as zip_file:\n",
    "        print(\"Zip contents:\")\n",
    "        zip_file.printdir()\n",
    "except zipfile.BadZipFile:\n",
    "    print(\"The file is not a zip file or it is corrupted\")\n",
    "except FileNotFoundError:\n",
    "    print(\"The file does not exist\")\n"
   ]
  },
  {
   "cell_type": "code",
   "execution_count": 5,
   "metadata": {},
   "outputs": [
    {
     "ename": "TypeError",
     "evalue": "argument should be integer or bytes-like object, not 'str'",
     "output_type": "error",
     "traceback": [
      "\u001b[0;31m---------------------------------------------------------------------------\u001b[0m",
      "\u001b[0;31mTypeError\u001b[0m                                 Traceback (most recent call last)",
      "Cell \u001b[0;32mIn[5], line 12\u001b[0m\n\u001b[1;32m     10\u001b[0m     \u001b[38;5;28;01melse\u001b[39;00m: \n\u001b[1;32m     11\u001b[0m         f\u001b[38;5;241m.\u001b[39mclose() \n\u001b[0;32m---> 12\u001b[0m \u001b[43mfixBadZipfile\u001b[49m\u001b[43m(\u001b[49m\u001b[43m)\u001b[49m\n",
      "Cell \u001b[0;32mIn[5], line 4\u001b[0m, in \u001b[0;36mfixBadZipfile\u001b[0;34m()\u001b[0m\n\u001b[1;32m      2\u001b[0m f \u001b[38;5;241m=\u001b[39m \u001b[38;5;28mopen\u001b[39m(\u001b[38;5;124m'\u001b[39m\u001b[38;5;124mtrain.zip\u001b[39m\u001b[38;5;124m'\u001b[39m, \u001b[38;5;124m'\u001b[39m\u001b[38;5;124mr+b\u001b[39m\u001b[38;5;124m'\u001b[39m)  \n\u001b[1;32m      3\u001b[0m data \u001b[38;5;241m=\u001b[39m f\u001b[38;5;241m.\u001b[39mread()  \n\u001b[0;32m----> 4\u001b[0m pos \u001b[38;5;241m=\u001b[39m \u001b[43mdata\u001b[49m\u001b[38;5;241;43m.\u001b[39;49m\u001b[43mfind\u001b[49m\u001b[43m(\u001b[49m\u001b[38;5;124;43m'\u001b[39;49m\u001b[38;5;130;43;01m\\x50\u001b[39;49;00m\u001b[38;5;130;43;01m\\x4b\u001b[39;49;00m\u001b[38;5;130;43;01m\\x05\u001b[39;49;00m\u001b[38;5;130;43;01m\\x06\u001b[39;49;00m\u001b[38;5;124;43m'\u001b[39;49m\u001b[43m)\u001b[49m \u001b[38;5;66;03m# End of central directory signature  \u001b[39;00m\n\u001b[1;32m      5\u001b[0m \u001b[38;5;28;01mif\u001b[39;00m (pos \u001b[38;5;241m>\u001b[39m \u001b[38;5;241m0\u001b[39m):  \n\u001b[1;32m      6\u001b[0m \u001b[38;5;66;03m#  self._log(\"Trancating file at location \" + str(pos + 22)+ \".\")  \u001b[39;00m\n\u001b[1;32m      7\u001b[0m     f\u001b[38;5;241m.\u001b[39mseek(pos \u001b[38;5;241m+\u001b[39m \u001b[38;5;241m22\u001b[39m)   \u001b[38;5;66;03m# size of 'ZIP end of central directory record' \u001b[39;00m\n",
      "\u001b[0;31mTypeError\u001b[0m: argument should be integer or bytes-like object, not 'str'"
     ]
    }
   ],
   "source": [
    "def fixBadZipfile():  \n",
    "    f = open('train.zip', 'r+b')  \n",
    "    data = f.read()  \n",
    "    pos = data.find('\\x50\\x4b\\x05\\x06') # End of central directory signature  \n",
    "    if (pos > 0):  \n",
    "    #  self._log(\"Trancating file at location \" + str(pos + 22)+ \".\")  \n",
    "        f.seek(pos + 22)   # size of 'ZIP end of central directory record' \n",
    "        f.truncate()  \n",
    "        f.close()  \n",
    "    else: \n",
    "        f.close() \n",
    "fixBadZipfile()"
   ]
  }
 ],
 "metadata": {
  "kernelspec": {
   "display_name": "env",
   "language": "python",
   "name": "python3"
  },
  "language_info": {
   "codemirror_mode": {
    "name": "ipython",
    "version": 3
   },
   "file_extension": ".py",
   "mimetype": "text/x-python",
   "name": "python",
   "nbconvert_exporter": "python",
   "pygments_lexer": "ipython3",
   "version": "3.11.4"
  }
 },
 "nbformat": 4,
 "nbformat_minor": 2
}
