{
 "cells": [
  {
   "cell_type": "code",
   "execution_count": 2,
   "metadata": {},
   "outputs": [
    {
     "name": "stdout",
     "output_type": "stream",
     "text": [
      "['', 'APR stands', ' for Annual Percentage Rate', '. It is the annual interest', ' rate charged for borrowing', ', expressed as a single percentage', ' number that represents the actual year', 'ly cost of funds over the', ' term of a loan. It', ' includes any fees or additional costs', ' associated with the transaction.', '']\n"
     ]
    }
   ],
   "source": [
    "import replicate\n",
    "\n",
    "\n",
    "output = replicate.run(\n",
    "    \"ibm-granite/granite-3.0-8b-instruct\",\n",
    "    input={\n",
    "        \"top_k\": 50,\n",
    "        \"top_p\": 0.9,\n",
    "        \"prompt\": \"Could you please explain what APR means?\",\n",
    "        \"max_tokens\": 512,\n",
    "        \"min_tokens\": 0,\n",
    "        \"temperature\": 0.6,\n",
    "        \"system_prompt\": \"You are an expert in finance that knows many concepts related to loans and credit.\",\n",
    "        \"presence_penalty\": 0,\n",
    "        \"frequency_penalty\": 0\n",
    "    }\n",
    ")\n",
    "print(output)"
   ]
  }
 ],
 "metadata": {
  "kernelspec": {
   "display_name": "env",
   "language": "python",
   "name": "python3"
  },
  "language_info": {
   "codemirror_mode": {
    "name": "ipython",
    "version": 3
   },
   "file_extension": ".py",
   "mimetype": "text/x-python",
   "name": "python",
   "nbconvert_exporter": "python",
   "pygments_lexer": "ipython3",
   "version": "3.11.4"
  }
 },
 "nbformat": 4,
 "nbformat_minor": 2
}
